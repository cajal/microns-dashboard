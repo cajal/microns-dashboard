{
 "cells": [
  {
   "cell_type": "code",
   "execution_count": 1,
   "id": "0a621b25-b051-4533-abe3-da56d1e46fc3",
   "metadata": {},
   "outputs": [],
   "source": [
    "%%capture\n",
    "import datajoint_plus as djp\n",
    "djp.config['database.user'] = 'micronsdashboard'\n",
    "djp.config['database.password'] = 'micronsdashboard#1'\n",
    "\n",
    "from IPython.core.magics.display import Javascript\n",
    "import wridgets as wr\n",
    "import wridgets.app as wra\n",
    "from microns_dashboard_api.apps import GetDashboardUser, UserApp, DataJointLoginApp, UserInfoManager\n",
    "from microns_dashboard_api.schemas import dashboard as db"
   ]
  },
  {
   "cell_type": "code",
   "execution_count": 3,
   "id": "1f93992b-55d4-4a36-82d6-d9ec58f31e38",
   "metadata": {},
   "outputs": [
    {
     "data": {
      "application/javascript": "\n    require.undef('user_widget');\n\n    define('user_widget', [\"@jupyter-widgets/base\"], function (widgets) {\n\n        \n        var UserView = widgets.DOMWidgetView.extend({\n            initialize: function(attributes, options) {\n\n            this.response = fetch(\n                    '/hub/dashboards-api/hub-info/user',\n                    { \n                    mode: 'no-cors', \n                    credentials: 'same-origin',\n                    headers: new Headers({'Access-Control-Allow-Origin':'*'}) \n                });\n                this.response.then( response => {\n                    this.result = response.json();\n                    this.result.then( json => {\n                        this.model.set('value', json);\n                        this.model.set('name', json.name);\n                        this.model.save_changes();\n                    });\n\n                });\n            \n            },\n            \n            render: async function () {\n                await this.response;\n                await this.result;\n                var json = this.model.get('value');\n                var text = 'No user';\n                if (json.hasOwnProperty('name')) {\n                    text = '';\n                }\n                this.el.appendChild(document.createTextNode(text));\n\n            },\n        \n        });\n\n        return {\n            UserView: UserView\n        };\n    });\n    ",
      "text/plain": [
       "<IPython.core.display.Javascript object>"
      ]
     },
     "execution_count": 3,
     "metadata": {},
     "output_type": "execute_result"
    }
   ],
   "source": [
    "Javascript(UserApp.get_user_info_js) # must be in its own cell"
   ]
  },
  {
   "cell_type": "code",
   "execution_count": 4,
   "id": "34a15a6d-0a2a-4e3f-b7fe-482cd66c822d",
   "metadata": {},
   "outputs": [
    {
     "data": {
      "application/vnd.jupyter.widget-view+json": {
       "model_id": "9fd665f60a9340aa86a71f3f58d182a5",
       "version_major": 2,
       "version_minor": 0
      },
      "text/plain": [
       "GetDashboardUser()"
      ]
     },
     "execution_count": 4,
     "metadata": {},
     "output_type": "execute_result"
    }
   ],
   "source": [
    "user = GetDashboardUser() # must be in its own cell\n",
    "user"
   ]
  },
  {
   "cell_type": "code",
   "execution_count": 2,
   "id": "7b146c91-a74a-4aba-9596-aea8bf2bd5f5",
   "metadata": {},
   "outputs": [
    {
     "data": {
      "application/vnd.jupyter.widget-view+json": {
       "model_id": "47c7c84a4bf8488ebdf39fe44f40e380",
       "version_major": 2,
       "version_minor": 0
      },
      "text/plain": [
       "Output()"
      ]
     },
     "metadata": {},
     "output_type": "display_data"
    }
   ],
   "source": [
    "# user app\n",
    "header_output = wr.Output()\n",
    "display(header_output)\n",
    "def on_user_update():\n",
    "    event = db.Event.log_event('user_access', {'user': user.name})\n",
    "    with header_output:\n",
    "        wra.Label(text=f'Welcome, {user.name}.', fontsize=2.5).display()\n",
    "        \n",
    "user_app = UserApp(user_app=globals().get('user'), on_user_update=on_user_update, entry_point='UserManager', post_event=True)"
   ]
  },
  {
   "cell_type": "code",
   "execution_count": null,
   "id": "a43313e6",
   "metadata": {},
   "outputs": [],
   "source": [
    "# Slack username \n",
    "class SlackUsernameManager(UserInfoManager):\n",
    "    def get_data(self, **kwargs):\n",
    "        try:\n",
    "            return db.User.Slack().get({'user': user_app.user}).get('slack_username')\n",
    "        except:\n",
    "            msg = 'Error getting Slack username'\n",
    "            db.User.Slack.Log('exception', msg)\n",
    "            self.msg(msg)\n",
    "\n",
    "    def set_data(self, data, **kwargs):\n",
    "        if data:\n",
    "            event = None\n",
    "            with wr.Output():\n",
    "                event = db.Event.log_event('user_add_info', {'user': user_app.user, 'info_type': 'slack_username'}, data)\n",
    "            if event is not None:\n",
    "                self.msg(f'Slack username successfully updated to <b> {data} </b>')\n",
    "            else:\n",
    "                self.msg(f'Error updating Slack username to <b> {data} </b>')"
   ]
  },
  {
   "cell_type": "code",
   "execution_count": 4,
   "id": "cf9cf7e5-7a46-489f-8ade-de8cc704a2f4",
   "metadata": {},
   "outputs": [
    {
     "data": {
      "application/vnd.jupyter.widget-view+json": {
       "model_id": "c228bc52375043e9a83d3c0f72f6f6bf",
       "version_major": 2,
       "version_minor": 0
      },
      "text/plain": [
       "VBox(children=(HBox(children=(VBox(children=(HBox(children=(VBox(children=(HBox(children=(HTML(value=\"<font si…"
      ]
     },
     "metadata": {},
     "output_type": "display_data"
    }
   ],
   "source": [
    "# DataJoint login then display apps\n",
    "\n",
    "app_output = wr.Output()\n",
    "\n",
    "def on_login(**kwargs):\n",
    "    with app_output:\n",
    "        SlackUsernameManager(label='Slack username').display()\n",
    "        \n",
    "DataJointLoginApp(on_login=on_login, hide_on_login=True).display()\n",
    "display(app_output)"
   ]
  }
 ],
 "metadata": {
  "kernelspec": {
   "display_name": "Python 3.8.13 64-bit",
   "language": "python",
   "name": "python3"
  },
  "language_info": {
   "codemirror_mode": {
    "name": "ipython",
    "version": 3
   },
   "file_extension": ".py",
   "mimetype": "text/x-python",
   "name": "python",
   "nbconvert_exporter": "python",
   "pygments_lexer": "ipython3",
   "version": "3.8.14"
  },
  "vscode": {
   "interpreter": {
    "hash": "df0893f56f349688326838aaeea0de204df53a132722cbd565e54b24a8fec5f6"
   }
  }
 },
 "nbformat": 4,
 "nbformat_minor": 5
}
